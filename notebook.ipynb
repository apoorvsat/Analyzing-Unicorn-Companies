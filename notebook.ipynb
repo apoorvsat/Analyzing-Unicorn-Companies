# Analyzing Unicorn Companies- A SQL Project
![Analyzing Unicorn Companies](Analyzing%20Unicorn%20Companies.png)

Did you know that the average return from investing in stocks is [10% per year](https://www.nerdwallet.com/article/investing/average-stock-market-return) (not accounting for inflation)? But who wants to be average?! 

You have been asked to support an investment firm by analyzing trends in high-growth companies. They are interested in understanding which industries are producing the highest valuations and the rate at which new high-value companies are emerging. Providing them with this information gives them a competitive insight as to industry trends and how they should structure their portfolio looking forward.

You have been given access to their `unicorns` database, which contains the following tables:
